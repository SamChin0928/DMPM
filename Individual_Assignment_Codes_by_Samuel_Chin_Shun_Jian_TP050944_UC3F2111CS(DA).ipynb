{
  "nbformat": 4,
  "nbformat_minor": 0,
  "metadata": {
    "colab": {
      "name": "Individual Assignment Codes by Samuel Chin Shun-Jian_TP050944_UC3F2111CS(DA).ipynb",
      "provenance": [],
      "collapsed_sections": []
    },
    "kernelspec": {
      "name": "python3",
      "display_name": "Python 3"
    },
    "language_info": {
      "name": "python"
    }
  },
  "cells": [
    {
      "cell_type": "markdown",
      "source": [
        "**Individual Assignment Codes by Samuel Chin Shun-Jian_TP050944_UC3F2111CS(DA)**"
      ],
      "metadata": {
        "id": "rmIBidBdEFWz"
      }
    },
    {
      "cell_type": "markdown",
      "source": [
        "Run this before running other algorithms"
      ],
      "metadata": {
        "id": "e7b7EyfYCKAV"
      }
    },
    {
      "cell_type": "code",
      "source": [
        "import nltk\n",
        "nltk.download('punkt')\n",
        "nltk.download('stopwords')\n",
        "nltk.download('averaged_perceptron_tagger')\n",
        "nltk.download('tagsets')\n",
        "\n",
        "### CREATE VIRTUAL DISPLAY ###\n",
        "!apt-get install -y xvfb # Install X Virtual Frame Buffer\n",
        "import os\n",
        "os.system('Xvfb :1 -screen 0 1600x1200x16  &')    # create virtual display with size 1600x1200 and 16 bit color. Color can be changed to 24 or 8\n",
        "os.environ['DISPLAY']=':1.0'    # tell X clients to use our virtual DISPLAY :1.0.\n",
        "\n",
        "%matplotlib inline\n",
        "\n",
        "### INSTALL GHOSTSCRIPT (Required to display NLTK trees) ###\n",
        "!apt install ghostscript python3-tk\n",
        "\n",
        "from IPython.display import display"
      ],
      "metadata": {
        "colab": {
          "base_uri": "https://localhost:8080/"
        },
        "id": "01I1Us0Kr6Yh",
        "outputId": "532fa1ee-3c7f-45d4-dbf9-dc8062098fd3"
      },
      "execution_count": 1,
      "outputs": [
        {
          "output_type": "stream",
          "name": "stdout",
          "text": [
            "[nltk_data] Downloading package punkt to /root/nltk_data...\n",
            "[nltk_data]   Unzipping tokenizers/punkt.zip.\n",
            "[nltk_data] Downloading package stopwords to /root/nltk_data...\n",
            "[nltk_data]   Unzipping corpora/stopwords.zip.\n",
            "[nltk_data] Downloading package averaged_perceptron_tagger to\n",
            "[nltk_data]     /root/nltk_data...\n",
            "[nltk_data]   Unzipping taggers/averaged_perceptron_tagger.zip.\n",
            "[nltk_data] Downloading package tagsets to /root/nltk_data...\n",
            "[nltk_data]   Unzipping help/tagsets.zip.\n",
            "Reading package lists... Done\n",
            "Building dependency tree       \n",
            "Reading state information... Done\n",
            "The following NEW packages will be installed:\n",
            "  xvfb\n",
            "0 upgraded, 1 newly installed, 0 to remove and 39 not upgraded.\n",
            "Need to get 784 kB of archives.\n",
            "After this operation, 2,271 kB of additional disk space will be used.\n",
            "Get:1 http://archive.ubuntu.com/ubuntu bionic-updates/universe amd64 xvfb amd64 2:1.19.6-1ubuntu4.10 [784 kB]\n",
            "Fetched 784 kB in 0s (7,189 kB/s)\n",
            "Selecting previously unselected package xvfb.\n",
            "(Reading database ... 155335 files and directories currently installed.)\n",
            "Preparing to unpack .../xvfb_2%3a1.19.6-1ubuntu4.10_amd64.deb ...\n",
            "Unpacking xvfb (2:1.19.6-1ubuntu4.10) ...\n",
            "Setting up xvfb (2:1.19.6-1ubuntu4.10) ...\n",
            "Processing triggers for man-db (2.8.3-2ubuntu0.1) ...\n",
            "Reading package lists... Done\n",
            "Building dependency tree       \n",
            "Reading state information... Done\n",
            "python3-tk is already the newest version (3.6.9-1~18.04).\n",
            "The following additional packages will be installed:\n",
            "  fonts-droid-fallback fonts-noto-mono gsfonts libcupsfilters1 libcupsimage2\n",
            "  libgs9 libgs9-common libijs-0.35 libjbig2dec0 poppler-data\n",
            "Suggested packages:\n",
            "  fonts-noto ghostscript-x poppler-utils fonts-japanese-mincho\n",
            "  | fonts-ipafont-mincho fonts-japanese-gothic | fonts-ipafont-gothic\n",
            "  fonts-arphic-ukai fonts-arphic-uming fonts-nanum\n",
            "The following NEW packages will be installed:\n",
            "  fonts-droid-fallback fonts-noto-mono ghostscript gsfonts libcupsfilters1\n",
            "  libcupsimage2 libgs9 libgs9-common libijs-0.35 libjbig2dec0 poppler-data\n",
            "0 upgraded, 11 newly installed, 0 to remove and 39 not upgraded.\n",
            "Need to get 14.1 MB of archives.\n",
            "After this operation, 49.9 MB of additional disk space will be used.\n",
            "Get:1 http://archive.ubuntu.com/ubuntu bionic/main amd64 fonts-droid-fallback all 1:6.0.1r16-1.1 [1,805 kB]\n",
            "Get:2 http://archive.ubuntu.com/ubuntu bionic/main amd64 poppler-data all 0.4.8-2 [1,479 kB]\n",
            "Get:3 http://archive.ubuntu.com/ubuntu bionic/main amd64 fonts-noto-mono all 20171026-2 [75.5 kB]\n",
            "Get:4 http://archive.ubuntu.com/ubuntu bionic-updates/main amd64 libcupsimage2 amd64 2.2.7-1ubuntu2.8 [18.6 kB]\n",
            "Get:5 http://archive.ubuntu.com/ubuntu bionic/main amd64 libijs-0.35 amd64 0.35-13 [15.5 kB]\n",
            "Get:6 http://archive.ubuntu.com/ubuntu bionic/main amd64 libjbig2dec0 amd64 0.13-6 [55.9 kB]\n",
            "Get:7 http://archive.ubuntu.com/ubuntu bionic-updates/main amd64 libgs9-common all 9.26~dfsg+0-0ubuntu0.18.04.15 [5,092 kB]\n",
            "Get:8 http://archive.ubuntu.com/ubuntu bionic-updates/main amd64 libgs9 amd64 9.26~dfsg+0-0ubuntu0.18.04.15 [2,265 kB]\n",
            "Get:9 http://archive.ubuntu.com/ubuntu bionic-updates/main amd64 ghostscript amd64 9.26~dfsg+0-0ubuntu0.18.04.15 [51.4 kB]\n",
            "Get:10 http://archive.ubuntu.com/ubuntu bionic/main amd64 gsfonts all 1:8.11+urwcyr1.0.7~pre44-4.4 [3,120 kB]\n",
            "Get:11 http://archive.ubuntu.com/ubuntu bionic-updates/main amd64 libcupsfilters1 amd64 1.20.2-0ubuntu3.1 [108 kB]\n",
            "Fetched 14.1 MB in 0s (38.9 MB/s)\n",
            "Selecting previously unselected package fonts-droid-fallback.\n",
            "(Reading database ... 155342 files and directories currently installed.)\n",
            "Preparing to unpack .../00-fonts-droid-fallback_1%3a6.0.1r16-1.1_all.deb ...\n",
            "Unpacking fonts-droid-fallback (1:6.0.1r16-1.1) ...\n",
            "Selecting previously unselected package poppler-data.\n",
            "Preparing to unpack .../01-poppler-data_0.4.8-2_all.deb ...\n",
            "Unpacking poppler-data (0.4.8-2) ...\n",
            "Selecting previously unselected package fonts-noto-mono.\n",
            "Preparing to unpack .../02-fonts-noto-mono_20171026-2_all.deb ...\n",
            "Unpacking fonts-noto-mono (20171026-2) ...\n",
            "Selecting previously unselected package libcupsimage2:amd64.\n",
            "Preparing to unpack .../03-libcupsimage2_2.2.7-1ubuntu2.8_amd64.deb ...\n",
            "Unpacking libcupsimage2:amd64 (2.2.7-1ubuntu2.8) ...\n",
            "Selecting previously unselected package libijs-0.35:amd64.\n",
            "Preparing to unpack .../04-libijs-0.35_0.35-13_amd64.deb ...\n",
            "Unpacking libijs-0.35:amd64 (0.35-13) ...\n",
            "Selecting previously unselected package libjbig2dec0:amd64.\n",
            "Preparing to unpack .../05-libjbig2dec0_0.13-6_amd64.deb ...\n",
            "Unpacking libjbig2dec0:amd64 (0.13-6) ...\n",
            "Selecting previously unselected package libgs9-common.\n",
            "Preparing to unpack .../06-libgs9-common_9.26~dfsg+0-0ubuntu0.18.04.15_all.deb ...\n",
            "Unpacking libgs9-common (9.26~dfsg+0-0ubuntu0.18.04.15) ...\n",
            "Selecting previously unselected package libgs9:amd64.\n",
            "Preparing to unpack .../07-libgs9_9.26~dfsg+0-0ubuntu0.18.04.15_amd64.deb ...\n",
            "Unpacking libgs9:amd64 (9.26~dfsg+0-0ubuntu0.18.04.15) ...\n",
            "Selecting previously unselected package ghostscript.\n",
            "Preparing to unpack .../08-ghostscript_9.26~dfsg+0-0ubuntu0.18.04.15_amd64.deb ...\n",
            "Unpacking ghostscript (9.26~dfsg+0-0ubuntu0.18.04.15) ...\n",
            "Selecting previously unselected package gsfonts.\n",
            "Preparing to unpack .../09-gsfonts_1%3a8.11+urwcyr1.0.7~pre44-4.4_all.deb ...\n",
            "Unpacking gsfonts (1:8.11+urwcyr1.0.7~pre44-4.4) ...\n",
            "Selecting previously unselected package libcupsfilters1:amd64.\n",
            "Preparing to unpack .../10-libcupsfilters1_1.20.2-0ubuntu3.1_amd64.deb ...\n",
            "Unpacking libcupsfilters1:amd64 (1.20.2-0ubuntu3.1) ...\n",
            "Setting up libgs9-common (9.26~dfsg+0-0ubuntu0.18.04.15) ...\n",
            "Setting up fonts-droid-fallback (1:6.0.1r16-1.1) ...\n",
            "Setting up gsfonts (1:8.11+urwcyr1.0.7~pre44-4.4) ...\n",
            "Setting up poppler-data (0.4.8-2) ...\n",
            "Setting up fonts-noto-mono (20171026-2) ...\n",
            "Setting up libcupsfilters1:amd64 (1.20.2-0ubuntu3.1) ...\n",
            "Setting up libcupsimage2:amd64 (2.2.7-1ubuntu2.8) ...\n",
            "Setting up libjbig2dec0:amd64 (0.13-6) ...\n",
            "Setting up libijs-0.35:amd64 (0.35-13) ...\n",
            "Setting up libgs9:amd64 (9.26~dfsg+0-0ubuntu0.18.04.15) ...\n",
            "Setting up ghostscript (9.26~dfsg+0-0ubuntu0.18.04.15) ...\n",
            "Processing triggers for man-db (2.8.3-2ubuntu0.1) ...\n",
            "Processing triggers for fontconfig (2.12.6-0ubuntu2) ...\n",
            "Processing triggers for libc-bin (2.27-3ubuntu1.3) ...\n",
            "/sbin/ldconfig.real: /usr/local/lib/python3.7/dist-packages/ideep4py/lib/libmkldnn.so.0 is not a symbolic link\n",
            "\n"
          ]
        }
      ]
    },
    {
      "cell_type": "markdown",
      "source": [
        "Question 1: 1"
      ],
      "metadata": {
        "id": "odlgktz5CJH6"
      }
    },
    {
      "cell_type": "code",
      "execution_count": 3,
      "metadata": {
        "colab": {
          "base_uri": "https://localhost:8080/"
        },
        "id": "s3D6_YzOoJYk",
        "outputId": "7a8a35a4-2de9-4cd5-a50f-a308279d6493"
      },
      "outputs": [
        {
          "output_type": "stream",
          "name": "stdout",
          "text": [
            "There are  6  sentences in this text\n",
            "\n",
            "1 . NLP is important for scientific, economic, social, and cultural reasons. \n",
            "\n",
            "2 . NLP is experiencing rapid growth as its theories and methods are deployed in a variety of new language technologies. \n",
            "\n",
            "3 . For this reason it is important for a wide range of people to have a working knowledge of NLP. \n",
            "\n",
            "4 . Within industry, this includes people in human-computer interaction, business information analysis, and web software development. \n",
            "\n",
            "5 . Within academia, it includes people in areas from humanities computing and corpus linguistics through to computer science and artificial intelligence. \n",
            "\n",
            "6 . (To many people in academia, NLP is known by the name of \"Computational Linguistics.\") \n",
            "\n"
          ]
        }
      ],
      "source": [
        "from nltk.tokenize import sent_tokenize\n",
        "\n",
        "data_1 = \"./Data_1.txt\"\n",
        "file1 = open(data_1, \"r\")\n",
        "\n",
        "FileContent = file1.read()\n",
        "FileContent\n",
        "\n",
        "sampleText = FileContent\n",
        "\n",
        "Sentences = sent_tokenize(sampleText)\n",
        "\n",
        "print(\"There are \", len(Sentences), \" sentences in this text\\n\")\n",
        "\n",
        "counter = 0\n",
        "for sent in Sentences:\n",
        "    counter+=1\n",
        "    print(counter,\".\",sent,\"\\n\")"
      ]
    },
    {
      "cell_type": "markdown",
      "source": [
        "Question 1: 2"
      ],
      "metadata": {
        "id": "yFFKVMDvCIm7"
      }
    },
    {
      "cell_type": "code",
      "source": [
        "import nltk\n",
        "import re\n",
        "\n",
        "data_1 = \"./Data_1.txt\"\n",
        "file1 = open(data_1, \"r\")\n",
        "\n",
        "FileContent = file1.read()\n",
        "FileContent\n",
        "\n",
        "text = FileContent\n",
        "wordtokens = text.split(' ')\n",
        "\n",
        "#Split\n",
        "print(\"\\n-----------------------------------Tokenisation using Split Function-----------------------------------\\n\")\n",
        "print(wordtokens)\n",
        "\n",
        "#NLTK Packages\n",
        "print(\"\\n-----------------------------------Tokenisation using NLTK Packages-----------------------------------\")\n",
        "print(\"\\nUsing nltk word tokenise function (Words and Punctuations)\")\n",
        "print(nltk.tokenize.word_tokenize(text))\n",
        "\n",
        "print(\"\\nUsing nltk word tokenise function (Whitespace and Punctuation)\")\n",
        "print(nltk.tokenize.wordpunct_tokenize(text))\n",
        "\n",
        "\n",
        "#Regular Expression\n",
        "print(\"\\n-----------------------------------Tokenisation using Regex-----------------------------------\")\n",
        "print(\"\\nSplit Data_1.txt on sentence endings and print the result\")\n",
        "sentence_endings = r\"[.?!]\"\n",
        "print(re.split(sentence_endings, text))\n",
        "\n",
        "print(\"\\nSplit Data_1.txt on spaces and print the result\")\n",
        "spaces = r\"\\s+\"\n",
        "print(re.split(spaces, text))\n",
        "\n",
        "print(\"\\nFind all words in Data_1.txt and print the result\")\n",
        "capitalized_words = r\"\\w+\"\n",
        "print(re.findall(capitalized_words, text))\n",
        "\n",
        "print(\"\\nFind all digits in Data_1.txt and print the result\")\n",
        "digits = r\"\\d+\"\n",
        "print(re.findall(digits, text))"
      ],
      "metadata": {
        "colab": {
          "base_uri": "https://localhost:8080/"
        },
        "id": "XIYUz2ePt9uE",
        "outputId": "1d7f3167-4958-4317-946e-e36a18613169"
      },
      "execution_count": 4,
      "outputs": [
        {
          "output_type": "stream",
          "name": "stdout",
          "text": [
            "\n",
            "-----------------------------------Tokenisation using Split Function-----------------------------------\n",
            "\n",
            "['NLP', 'is', 'important', 'for', 'scientific,', 'economic,', 'social,', 'and', 'cultural', 'reasons.', 'NLP', 'is', 'experiencing', 'rapid', 'growth', 'as', 'its', 'theories', 'and', 'methods', 'are', 'deployed', 'in', 'a', 'variety', 'of', 'new', 'language', 'technologies.', 'For', 'this', 'reason', 'it', 'is', 'important', 'for', 'a', 'wide', 'range', 'of', 'people', 'to', 'have', 'a', 'working', 'knowledge', 'of', 'NLP.', 'Within', 'industry,', 'this', 'includes', 'people', 'in', 'human-computer', 'interaction,', 'business', 'information', 'analysis,', 'and', 'web', 'software', 'development.', 'Within', 'academia,', 'it', 'includes', 'people', 'in', 'areas', 'from', 'humanities', 'computing', 'and', 'corpus', 'linguistics', 'through', 'to', 'computer', 'science', 'and', 'artificial', 'intelligence.', '(To', 'many', 'people', 'in', 'academia,', 'NLP', 'is', 'known', 'by', 'the', 'name', 'of', '\"Computational', 'Linguistics.\")']\n",
            "\n",
            "-----------------------------------Tokenisation using NLTK Packages-----------------------------------\n",
            "\n",
            "Using nltk word tokenise function (Words and Punctuations)\n",
            "['NLP', 'is', 'important', 'for', 'scientific', ',', 'economic', ',', 'social', ',', 'and', 'cultural', 'reasons', '.', 'NLP', 'is', 'experiencing', 'rapid', 'growth', 'as', 'its', 'theories', 'and', 'methods', 'are', 'deployed', 'in', 'a', 'variety', 'of', 'new', 'language', 'technologies', '.', 'For', 'this', 'reason', 'it', 'is', 'important', 'for', 'a', 'wide', 'range', 'of', 'people', 'to', 'have', 'a', 'working', 'knowledge', 'of', 'NLP', '.', 'Within', 'industry', ',', 'this', 'includes', 'people', 'in', 'human-computer', 'interaction', ',', 'business', 'information', 'analysis', ',', 'and', 'web', 'software', 'development', '.', 'Within', 'academia', ',', 'it', 'includes', 'people', 'in', 'areas', 'from', 'humanities', 'computing', 'and', 'corpus', 'linguistics', 'through', 'to', 'computer', 'science', 'and', 'artificial', 'intelligence', '.', '(', 'To', 'many', 'people', 'in', 'academia', ',', 'NLP', 'is', 'known', 'by', 'the', 'name', 'of', '``', 'Computational', 'Linguistics', '.', \"''\", ')']\n",
            "\n",
            "Using nltk word tokenise function (Whitespace and Punctuation)\n",
            "['NLP', 'is', 'important', 'for', 'scientific', ',', 'economic', ',', 'social', ',', 'and', 'cultural', 'reasons', '.', 'NLP', 'is', 'experiencing', 'rapid', 'growth', 'as', 'its', 'theories', 'and', 'methods', 'are', 'deployed', 'in', 'a', 'variety', 'of', 'new', 'language', 'technologies', '.', 'For', 'this', 'reason', 'it', 'is', 'important', 'for', 'a', 'wide', 'range', 'of', 'people', 'to', 'have', 'a', 'working', 'knowledge', 'of', 'NLP', '.', 'Within', 'industry', ',', 'this', 'includes', 'people', 'in', 'human', '-', 'computer', 'interaction', ',', 'business', 'information', 'analysis', ',', 'and', 'web', 'software', 'development', '.', 'Within', 'academia', ',', 'it', 'includes', 'people', 'in', 'areas', 'from', 'humanities', 'computing', 'and', 'corpus', 'linguistics', 'through', 'to', 'computer', 'science', 'and', 'artificial', 'intelligence', '.', '(', 'To', 'many', 'people', 'in', 'academia', ',', 'NLP', 'is', 'known', 'by', 'the', 'name', 'of', '\"', 'Computational', 'Linguistics', '.\")']\n",
            "\n",
            "-----------------------------------Tokenisation using Regex-----------------------------------\n",
            "\n",
            "Split Data_1.txt on sentence endings and print the result\n",
            "['NLP is important for scientific, economic, social, and cultural reasons', ' NLP is experiencing rapid growth as its theories and methods are deployed in a variety of new language technologies', ' For this reason it is important for a wide range of people to have a working knowledge of NLP', ' Within industry, this includes people in human-computer interaction, business information analysis, and web software development', ' Within academia, it includes people in areas from humanities computing and corpus linguistics through to computer science and artificial intelligence', ' (To many people in academia, NLP is known by the name of \"Computational Linguistics', '\")']\n",
            "\n",
            "Split Data_1.txt on spaces and print the result\n",
            "['NLP', 'is', 'important', 'for', 'scientific,', 'economic,', 'social,', 'and', 'cultural', 'reasons.', 'NLP', 'is', 'experiencing', 'rapid', 'growth', 'as', 'its', 'theories', 'and', 'methods', 'are', 'deployed', 'in', 'a', 'variety', 'of', 'new', 'language', 'technologies.', 'For', 'this', 'reason', 'it', 'is', 'important', 'for', 'a', 'wide', 'range', 'of', 'people', 'to', 'have', 'a', 'working', 'knowledge', 'of', 'NLP.', 'Within', 'industry,', 'this', 'includes', 'people', 'in', 'human-computer', 'interaction,', 'business', 'information', 'analysis,', 'and', 'web', 'software', 'development.', 'Within', 'academia,', 'it', 'includes', 'people', 'in', 'areas', 'from', 'humanities', 'computing', 'and', 'corpus', 'linguistics', 'through', 'to', 'computer', 'science', 'and', 'artificial', 'intelligence.', '(To', 'many', 'people', 'in', 'academia,', 'NLP', 'is', 'known', 'by', 'the', 'name', 'of', '\"Computational', 'Linguistics.\")']\n",
            "\n",
            "Find all words in Data_1.txt and print the result\n",
            "['NLP', 'is', 'important', 'for', 'scientific', 'economic', 'social', 'and', 'cultural', 'reasons', 'NLP', 'is', 'experiencing', 'rapid', 'growth', 'as', 'its', 'theories', 'and', 'methods', 'are', 'deployed', 'in', 'a', 'variety', 'of', 'new', 'language', 'technologies', 'For', 'this', 'reason', 'it', 'is', 'important', 'for', 'a', 'wide', 'range', 'of', 'people', 'to', 'have', 'a', 'working', 'knowledge', 'of', 'NLP', 'Within', 'industry', 'this', 'includes', 'people', 'in', 'human', 'computer', 'interaction', 'business', 'information', 'analysis', 'and', 'web', 'software', 'development', 'Within', 'academia', 'it', 'includes', 'people', 'in', 'areas', 'from', 'humanities', 'computing', 'and', 'corpus', 'linguistics', 'through', 'to', 'computer', 'science', 'and', 'artificial', 'intelligence', 'To', 'many', 'people', 'in', 'academia', 'NLP', 'is', 'known', 'by', 'the', 'name', 'of', 'Computational', 'Linguistics']\n",
            "\n",
            "Find all digits in Data_1.txt and print the result\n",
            "[]\n"
          ]
        }
      ]
    },
    {
      "cell_type": "markdown",
      "source": [
        "Question 2: 2"
      ],
      "metadata": {
        "id": "k8I7xuKkCIHL"
      }
    },
    {
      "cell_type": "code",
      "source": [
        "from nltk.stem import RegexpStemmer, PorterStemmer, LancasterStemmer\n",
        "from nltk.tokenize import word_tokenize\n",
        "import re\n",
        "\n",
        "data_1 = \"./Data_1.txt\"\n",
        "file1 = open(data_1, \"r\")\n",
        "\n",
        "FileContent = file1.read()\n",
        "FileContent\n",
        "\n",
        "tokens = word_tokenize(FileContent)\n",
        "\n",
        "porter = PorterStemmer()\n",
        "lancaster = LancasterStemmer()\n",
        "\n",
        "print(\"\\nPorter Stemmer\")\n",
        "print([porter.stem(t) for t in tokens])\n",
        "\n",
        "print(\"\\nLancaster Stemmer\")\n",
        "print([lancaster.stem(t) for t in tokens])\n",
        "\n",
        "print(\"\\nRegular Expression\")\n",
        "def stem(word):\n",
        "    regexp = r'^(.*?)(ing|ly|ed|ious|ies|ive|es|s|ment)?$'\n",
        "    stem, suffix = re.findall(regexp, word)[0]\n",
        "    return stem\n",
        "tokens = nltk.tokenize.word_tokenize(FileContent)\n",
        "print([stem(t) for t in tokens])"
      ],
      "metadata": {
        "colab": {
          "base_uri": "https://localhost:8080/"
        },
        "id": "mFZSv6n48kfF",
        "outputId": "67af43d9-1d11-420e-fa2e-2a94e691d222"
      },
      "execution_count": 5,
      "outputs": [
        {
          "output_type": "stream",
          "name": "stdout",
          "text": [
            "\n",
            "Porter Stemmer\n",
            "['nlp', 'is', 'import', 'for', 'scientif', ',', 'econom', ',', 'social', ',', 'and', 'cultur', 'reason', '.', 'nlp', 'is', 'experienc', 'rapid', 'growth', 'as', 'it', 'theori', 'and', 'method', 'are', 'deploy', 'in', 'a', 'varieti', 'of', 'new', 'languag', 'technolog', '.', 'for', 'thi', 'reason', 'it', 'is', 'import', 'for', 'a', 'wide', 'rang', 'of', 'peopl', 'to', 'have', 'a', 'work', 'knowledg', 'of', 'nlp', '.', 'within', 'industri', ',', 'thi', 'includ', 'peopl', 'in', 'human-comput', 'interact', ',', 'busi', 'inform', 'analysi', ',', 'and', 'web', 'softwar', 'develop', '.', 'within', 'academia', ',', 'it', 'includ', 'peopl', 'in', 'area', 'from', 'human', 'comput', 'and', 'corpu', 'linguist', 'through', 'to', 'comput', 'scienc', 'and', 'artifici', 'intellig', '.', '(', 'To', 'mani', 'peopl', 'in', 'academia', ',', 'nlp', 'is', 'known', 'by', 'the', 'name', 'of', '``', 'comput', 'linguist', '.', \"''\", ')']\n",
            "\n",
            "Lancaster Stemmer\n",
            "['nlp', 'is', 'import', 'for', 'sci', ',', 'econom', ',', 'soc', ',', 'and', 'cult', 'reason', '.', 'nlp', 'is', 'expery', 'rapid', 'grow', 'as', 'it', 'the', 'and', 'method', 'ar', 'deploy', 'in', 'a', 'vary', 'of', 'new', 'langu', 'technolog', '.', 'for', 'thi', 'reason', 'it', 'is', 'import', 'for', 'a', 'wid', 'rang', 'of', 'peopl', 'to', 'hav', 'a', 'work', 'knowledg', 'of', 'nlp', '.', 'within', 'industry', ',', 'thi', 'includ', 'peopl', 'in', 'human-computer', 'interact', ',', 'busy', 'inform', 'analys', ',', 'and', 'web', 'softw', 'develop', '.', 'within', 'academ', ',', 'it', 'includ', 'peopl', 'in', 'area', 'from', 'hum', 'comput', 'and', 'corp', 'lingu', 'through', 'to', 'comput', 'sci', 'and', 'art', 'intellig', '.', '(', 'to', 'many', 'peopl', 'in', 'academ', ',', 'nlp', 'is', 'known', 'by', 'the', 'nam', 'of', '``', 'comput', 'lingu', '.', \"''\", ')']\n",
            "\n",
            "Regular Expression\n",
            "['NLP', 'i', 'important', 'for', 'scientific', ',', 'economic', ',', 'social', ',', 'and', 'cultural', 'reason', '.', 'NLP', 'i', 'experienc', 'rapid', 'growth', 'a', 'it', 'theor', 'and', 'method', 'are', 'deploy', 'in', 'a', 'variety', 'of', 'new', 'language', 'technolog', '.', 'For', 'thi', 'reason', 'it', 'i', 'important', 'for', 'a', 'wide', 'range', 'of', 'people', 'to', 'have', 'a', 'work', 'knowledge', 'of', 'NLP', '.', 'Within', 'industry', ',', 'thi', 'includ', 'people', 'in', 'human-computer', 'interaction', ',', 'busines', 'information', 'analysi', ',', 'and', 'web', 'software', 'develop', '.', 'Within', 'academia', ',', 'it', 'includ', 'people', 'in', 'area', 'from', 'humanit', 'comput', 'and', 'corpu', 'linguistic', 'through', 'to', 'computer', 'science', 'and', 'artificial', 'intelligence', '.', '(', 'To', 'many', 'people', 'in', 'academia', ',', 'NLP', 'i', 'known', 'by', 'the', 'name', 'of', '``', 'Computational', 'Linguistic', '.', \"''\", ')']\n"
          ]
        }
      ]
    },
    {
      "cell_type": "markdown",
      "source": [
        "Question 3: 1 and 2"
      ],
      "metadata": {
        "id": "3VlcDMSDCHRT"
      }
    },
    {
      "cell_type": "code",
      "source": [
        "import string\n",
        "import wordcloud\n",
        "\n",
        "data_1 = \"./Data_1.txt\"\n",
        "\n",
        "# Loading Data\n",
        "filename = data_1\n",
        "file = open(filename, 'rt')\n",
        "text = file.read()\n",
        "file.close()\n",
        "\n",
        "#Tokenizing\n",
        "tokens = nltk.tokenize.word_tokenize(text)\n",
        "print(\"Total number of words in this text corpus is \",len(tokens))\n",
        "\n",
        "stopTokens = nltk.corpus.stopwords.words(\"english\") + list(string.punctuation)\n",
        "filteredTokens = []\n",
        "\n",
        "for w in tokens:\n",
        "    if w not in stopTokens :\n",
        "        filteredTokens.append(w)\n",
        "\n",
        "print(\"There are\", len(filteredTokens), \" words in this text after removing stop words\\n\")\n",
        "\n",
        "print()\n",
        "\n",
        "print(\"\\nNot Stop Words:\")\n",
        "print(filteredTokens,\"\\n\")\n",
        "\n",
        "print(\"\\nStop Words:\")\n",
        "print(stopTokens,\"\\n\")\n",
        "\n",
        "stopwordlist = nltk.FreqDist(stopTokens)\n",
        "print(\"\\nIndividual Stop Words Frequency:\")\n",
        "print(stopwordlist.most_common())"
      ],
      "metadata": {
        "colab": {
          "base_uri": "https://localhost:8080/"
        },
        "id": "veTUwECS-CIS",
        "outputId": "ccace420-6420-4932-d346-6cd2852ae8cc"
      },
      "execution_count": 6,
      "outputs": [
        {
          "output_type": "stream",
          "name": "stdout",
          "text": [
            "Total number of words in this text corpus is  115\n",
            "There are 63  words in this text after removing stop words\n",
            "\n",
            "\n",
            "\n",
            "Not Stop Words:\n",
            "['NLP', 'important', 'scientific', 'economic', 'social', 'cultural', 'reasons', 'NLP', 'experiencing', 'rapid', 'growth', 'theories', 'methods', 'deployed', 'variety', 'new', 'language', 'technologies', 'For', 'reason', 'important', 'wide', 'range', 'people', 'working', 'knowledge', 'NLP', 'Within', 'industry', 'includes', 'people', 'human-computer', 'interaction', 'business', 'information', 'analysis', 'web', 'software', 'development', 'Within', 'academia', 'includes', 'people', 'areas', 'humanities', 'computing', 'corpus', 'linguistics', 'computer', 'science', 'artificial', 'intelligence', 'To', 'many', 'people', 'academia', 'NLP', 'known', 'name', '``', 'Computational', 'Linguistics', \"''\"] \n",
            "\n",
            "\n",
            "Stop Words:\n",
            "['i', 'me', 'my', 'myself', 'we', 'our', 'ours', 'ourselves', 'you', \"you're\", \"you've\", \"you'll\", \"you'd\", 'your', 'yours', 'yourself', 'yourselves', 'he', 'him', 'his', 'himself', 'she', \"she's\", 'her', 'hers', 'herself', 'it', \"it's\", 'its', 'itself', 'they', 'them', 'their', 'theirs', 'themselves', 'what', 'which', 'who', 'whom', 'this', 'that', \"that'll\", 'these', 'those', 'am', 'is', 'are', 'was', 'were', 'be', 'been', 'being', 'have', 'has', 'had', 'having', 'do', 'does', 'did', 'doing', 'a', 'an', 'the', 'and', 'but', 'if', 'or', 'because', 'as', 'until', 'while', 'of', 'at', 'by', 'for', 'with', 'about', 'against', 'between', 'into', 'through', 'during', 'before', 'after', 'above', 'below', 'to', 'from', 'up', 'down', 'in', 'out', 'on', 'off', 'over', 'under', 'again', 'further', 'then', 'once', 'here', 'there', 'when', 'where', 'why', 'how', 'all', 'any', 'both', 'each', 'few', 'more', 'most', 'other', 'some', 'such', 'no', 'nor', 'not', 'only', 'own', 'same', 'so', 'than', 'too', 'very', 's', 't', 'can', 'will', 'just', 'don', \"don't\", 'should', \"should've\", 'now', 'd', 'll', 'm', 'o', 're', 've', 'y', 'ain', 'aren', \"aren't\", 'couldn', \"couldn't\", 'didn', \"didn't\", 'doesn', \"doesn't\", 'hadn', \"hadn't\", 'hasn', \"hasn't\", 'haven', \"haven't\", 'isn', \"isn't\", 'ma', 'mightn', \"mightn't\", 'mustn', \"mustn't\", 'needn', \"needn't\", 'shan', \"shan't\", 'shouldn', \"shouldn't\", 'wasn', \"wasn't\", 'weren', \"weren't\", 'won', \"won't\", 'wouldn', \"wouldn't\", '!', '\"', '#', '$', '%', '&', \"'\", '(', ')', '*', '+', ',', '-', '.', '/', ':', ';', '<', '=', '>', '?', '@', '[', '\\\\', ']', '^', '_', '`', '{', '|', '}', '~'] \n",
            "\n",
            "\n",
            "Individual Stop Words Frequency:\n",
            "[('i', 1), ('me', 1), ('my', 1), ('myself', 1), ('we', 1), ('our', 1), ('ours', 1), ('ourselves', 1), ('you', 1), (\"you're\", 1), (\"you've\", 1), (\"you'll\", 1), (\"you'd\", 1), ('your', 1), ('yours', 1), ('yourself', 1), ('yourselves', 1), ('he', 1), ('him', 1), ('his', 1), ('himself', 1), ('she', 1), (\"she's\", 1), ('her', 1), ('hers', 1), ('herself', 1), ('it', 1), (\"it's\", 1), ('its', 1), ('itself', 1), ('they', 1), ('them', 1), ('their', 1), ('theirs', 1), ('themselves', 1), ('what', 1), ('which', 1), ('who', 1), ('whom', 1), ('this', 1), ('that', 1), (\"that'll\", 1), ('these', 1), ('those', 1), ('am', 1), ('is', 1), ('are', 1), ('was', 1), ('were', 1), ('be', 1), ('been', 1), ('being', 1), ('have', 1), ('has', 1), ('had', 1), ('having', 1), ('do', 1), ('does', 1), ('did', 1), ('doing', 1), ('a', 1), ('an', 1), ('the', 1), ('and', 1), ('but', 1), ('if', 1), ('or', 1), ('because', 1), ('as', 1), ('until', 1), ('while', 1), ('of', 1), ('at', 1), ('by', 1), ('for', 1), ('with', 1), ('about', 1), ('against', 1), ('between', 1), ('into', 1), ('through', 1), ('during', 1), ('before', 1), ('after', 1), ('above', 1), ('below', 1), ('to', 1), ('from', 1), ('up', 1), ('down', 1), ('in', 1), ('out', 1), ('on', 1), ('off', 1), ('over', 1), ('under', 1), ('again', 1), ('further', 1), ('then', 1), ('once', 1), ('here', 1), ('there', 1), ('when', 1), ('where', 1), ('why', 1), ('how', 1), ('all', 1), ('any', 1), ('both', 1), ('each', 1), ('few', 1), ('more', 1), ('most', 1), ('other', 1), ('some', 1), ('such', 1), ('no', 1), ('nor', 1), ('not', 1), ('only', 1), ('own', 1), ('same', 1), ('so', 1), ('than', 1), ('too', 1), ('very', 1), ('s', 1), ('t', 1), ('can', 1), ('will', 1), ('just', 1), ('don', 1), (\"don't\", 1), ('should', 1), (\"should've\", 1), ('now', 1), ('d', 1), ('ll', 1), ('m', 1), ('o', 1), ('re', 1), ('ve', 1), ('y', 1), ('ain', 1), ('aren', 1), (\"aren't\", 1), ('couldn', 1), (\"couldn't\", 1), ('didn', 1), (\"didn't\", 1), ('doesn', 1), (\"doesn't\", 1), ('hadn', 1), (\"hadn't\", 1), ('hasn', 1), (\"hasn't\", 1), ('haven', 1), (\"haven't\", 1), ('isn', 1), (\"isn't\", 1), ('ma', 1), ('mightn', 1), (\"mightn't\", 1), ('mustn', 1), (\"mustn't\", 1), ('needn', 1), (\"needn't\", 1), ('shan', 1), (\"shan't\", 1), ('shouldn', 1), (\"shouldn't\", 1), ('wasn', 1), (\"wasn't\", 1), ('weren', 1), (\"weren't\", 1), ('won', 1), (\"won't\", 1), ('wouldn', 1), (\"wouldn't\", 1), ('!', 1), ('\"', 1), ('#', 1), ('$', 1), ('%', 1), ('&', 1), (\"'\", 1), ('(', 1), (')', 1), ('*', 1), ('+', 1), (',', 1), ('-', 1), ('.', 1), ('/', 1), (':', 1), (';', 1), ('<', 1), ('=', 1), ('>', 1), ('?', 1), ('@', 1), ('[', 1), ('\\\\', 1), (']', 1), ('^', 1), ('_', 1), ('`', 1), ('{', 1), ('|', 1), ('}', 1), ('~', 1)]\n"
          ]
        }
      ]
    },
    {
      "cell_type": "markdown",
      "source": [
        "Question 4: 1"
      ],
      "metadata": {
        "id": "-IbBAYnqCG10"
      }
    },
    {
      "cell_type": "code",
      "source": [
        "import nltk\n",
        "from nltk.tokenize import sent_tokenize, word_tokenize\n",
        "from textblob import TextBlob\n",
        "\n",
        "data_2 = \"./Data_2.txt\"\n",
        "\n",
        "filename = data_2\n",
        "file = open(filename, 'rt')\n",
        "text = file.read()\n",
        "file.close()\n",
        "\n",
        "print (\"----------- NLTK POS Tagger -----------\")\n",
        "tokens = word_tokenize(text)\n",
        "print(nltk.pos_tag(tokens))\n",
        "\n",
        "print (\"\\n\")\n",
        "\n",
        "print (\"----------- textblob POS Tagger -----------\")\n",
        "wiki = TextBlob(text)\n",
        "print(wiki.tags)\n",
        "\n",
        "print (\"\\n\")\n",
        "\n",
        "print (\"----------- Regular Expression Tagger -----------\")\n",
        "patterns = [\n",
        "     (r'.*ing$', 'VBG'),               \n",
        "     (r'.*ed$', 'VBD'),              \n",
        "     (r'.*es$', 'VBZ'),                \n",
        "     (r'.*ould$', 'MD'),               \n",
        "     (r'.*\\'s$', 'NN$'),              \n",
        "     (r'.*s$', 'NNS'),                 \n",
        "     (r'^-?[0-9]+(.[0-9]+)?$', 'CD'), \n",
        "     (r'.*', 'NN'),                   \n",
        "     (r'^\\d+$', 'CD'),\n",
        "     (r'.*ing$', 'VBG'),              \n",
        "     (r'.*ment$', 'NN'),               \n",
        "     (r'.*ful$', 'JJ')                 \n",
        " ]\n",
        "\n",
        "regexp_tagger = nltk.RegexpTagger(patterns)\n",
        "tagger=nltk.tag.sequential.RegexpTagger(patterns)\n",
        "\n",
        "text1 = word_tokenize(text)\n",
        "print(tagger.tag(text1))"
      ],
      "metadata": {
        "colab": {
          "base_uri": "https://localhost:8080/"
        },
        "id": "YTjic125EW3t",
        "outputId": "024be9c9-1dad-41ed-f5f8-b9bbfac345ee"
      },
      "execution_count": 7,
      "outputs": [
        {
          "output_type": "stream",
          "name": "stdout",
          "text": [
            "----------- NLTK POS Tagger -----------\n",
            "[('The', 'DT'), ('little', 'JJ'), ('black', 'JJ'), ('dog', 'NN'), ('barked', 'VBD'), ('at', 'IN'), ('the', 'DT'), ('white', 'JJ'), ('cat', 'NN'), ('and', 'CC'), ('chased', 'VBD'), ('away', 'RB'), ('.', '.')]\n",
            "\n",
            "\n",
            "----------- textblob POS Tagger -----------\n",
            "[('The', 'DT'), ('little', 'JJ'), ('black', 'JJ'), ('dog', 'NN'), ('barked', 'VBD'), ('at', 'IN'), ('the', 'DT'), ('white', 'JJ'), ('cat', 'NN'), ('and', 'CC'), ('chased', 'VBD'), ('away', 'RB')]\n",
            "\n",
            "\n",
            "----------- Regular Expression Tagger -----------\n",
            "[('The', 'NN'), ('little', 'NN'), ('black', 'NN'), ('dog', 'NN'), ('barked', 'VBD'), ('at', 'NN'), ('the', 'NN'), ('white', 'NN'), ('cat', 'NN'), ('and', 'NN'), ('chased', 'VBD'), ('away', 'NN'), ('.', 'NN')]\n"
          ]
        }
      ]
    },
    {
      "cell_type": "markdown",
      "source": [
        "Question 4: 4"
      ],
      "metadata": {
        "id": "tjoTs-1YCF6k"
      }
    },
    {
      "cell_type": "code",
      "source": [
        "from nltk.tokenize import RegexpTokenizer\n",
        "\n",
        "data_2 = \"./Data_2.txt\"\n",
        "\n",
        "filename = data_2\n",
        "file = open(filename, 'rt')\n",
        "text = file.read()\n",
        "file.close()\n",
        "\n",
        "#Tokenizing the text in Data_2.txt\n",
        "tokenizer = RegexpTokenizer(r'\\w+')\n",
        "temp_text = tokenizer.tokenize(text)\n",
        "\n",
        "#Creating rules for first parse tree\n",
        "rule1 = nltk.CFG.fromstring(\"\"\"\n",
        "S -> NP VP\n",
        "NP -> DT NP | JJ NP | JJ NN | NP PP\n",
        "VP -> VBD PP | VBD RB\n",
        "PP -> IN NP | CC VP\n",
        "IN -> P\n",
        "DT -> 'The' | 'the'\n",
        "JJ -> 'little' | 'black' | 'white'\n",
        "NN -> 'dog' | 'cat'\n",
        "VBD -> 'barked' | 'chased'\n",
        "P -> 'at'\n",
        "CC -> 'and'\n",
        "RB -> 'away'\n",
        "\"\"\")\n",
        "\n",
        "parser1 = nltk.ChartParser(rule1)\n",
        "for tree in parser1.parse(temp_text):\n",
        "      display(tree)\n",
        "\n",
        "print()\n",
        "print()\n",
        "\n",
        "\n",
        "#Creating rules for second and third parse tree\n",
        "rule2 = nltk.CFG.fromstring(\"\"\"\n",
        "S -> NP VP\n",
        "NP -> DT JJ JJ NN | NP PP VP | DT JJ NN\n",
        "VP -> VBD PP | VBD RB\n",
        "PP -> IN NP | CC\n",
        "IN -> P\n",
        "DT -> 'The' | 'the'\n",
        "JJ -> 'little' | 'black' | 'white'\n",
        "NN -> 'dog' | 'cat'\n",
        "VBD -> 'barked' | 'chased'\n",
        "P -> 'at'\n",
        "CC -> 'and'\n",
        "RB -> 'away'\n",
        "\"\"\")\n",
        "\n",
        "parser2 = nltk.ChartParser(rule2)\n",
        "for tree in parser2.parse(temp_text):\n",
        "      display(tree)"
      ],
      "metadata": {
        "colab": {
          "base_uri": "https://localhost:8080/",
          "height": 997
        },
        "id": "ajz6Z5_j4zPe",
        "outputId": "0af6c6fb-b5b2-4af4-bccc-f1251017c5a3"
      },
      "execution_count": 8,
      "outputs": [
        {
          "output_type": "display_data",
          "data": {
            "text/plain": [
              "Tree('S', [Tree('NP', [Tree('DT', ['The']), Tree('NP', [Tree('JJ', ['little']), Tree('NP', [Tree('JJ', ['black']), Tree('NN', ['dog'])])])]), Tree('VP', [Tree('VBD', ['barked']), Tree('PP', [Tree('IN', [Tree('P', ['at'])]), Tree('NP', [Tree('NP', [Tree('DT', ['the']), Tree('NP', [Tree('JJ', ['white']), Tree('NN', ['cat'])])]), Tree('PP', [Tree('CC', ['and']), Tree('VP', [Tree('VBD', ['chased']), Tree('RB', ['away'])])])])])])])"
            ],
            "image/png": "[encoded data removed]"
          },
          "metadata": {}
        },
        {
          "output_type": "display_data",
          "data": {
            "text/plain": [
              "Tree('S', [Tree('NP', [Tree('DT', ['The']), Tree('NP', [Tree('JJ', ['little']), Tree('NP', [Tree('JJ', ['black']), Tree('NN', ['dog'])])])]), Tree('VP', [Tree('VBD', ['barked']), Tree('PP', [Tree('IN', [Tree('P', ['at'])]), Tree('NP', [Tree('DT', ['the']), Tree('NP', [Tree('NP', [Tree('JJ', ['white']), Tree('NN', ['cat'])]), Tree('PP', [Tree('CC', ['and']), Tree('VP', [Tree('VBD', ['chased']), Tree('RB', ['away'])])])])])])])])"
            ],
            "image/png": "[encoded data removed]"
          },
          "metadata": {}
        },
        {
          "output_type": "stream",
          "name": "stdout",
          "text": [
            "\n",
            "\n"
          ]
        },
        {
          "output_type": "display_data",
          "data": {
            "text/plain": [
              "Tree('S', [Tree('NP', [Tree('DT', ['The']), Tree('JJ', ['little']), Tree('JJ', ['black']), Tree('NN', ['dog'])]), Tree('VP', [Tree('VBD', ['barked']), Tree('PP', [Tree('IN', [Tree('P', ['at'])]), Tree('NP', [Tree('NP', [Tree('DT', ['the']), Tree('JJ', ['white']), Tree('NN', ['cat'])]), Tree('PP', [Tree('CC', ['and'])]), Tree('VP', [Tree('VBD', ['chased']), Tree('RB', ['away'])])])])])])"
            ],
            "image/png": "[encoded data removed]"
          },
          "metadata": {}
        }
      ]
    }
  ]
}